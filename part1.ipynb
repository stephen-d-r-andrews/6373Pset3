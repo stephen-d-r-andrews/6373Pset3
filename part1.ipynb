{
 "cells": [
  {
   "cell_type": "code",
   "execution_count": 8,
   "metadata": {},
   "outputs": [],
   "source": [
    "import numpy as np\n",
    "from sklearn.linear_model import LinearRegression\n",
    "import pandas as pd\n"
   ]
  },
  {
   "cell_type": "markdown",
   "metadata": {},
   "source": [
    "### Part (a)"
   ]
  },
  {
   "cell_type": "code",
   "execution_count": 41,
   "metadata": {},
   "outputs": [],
   "source": [
    "array = np.loadtxt(\"/Users/stephenandrews/Downloads/MIT Schoolwork/Spring 2025/6.3732/6373Pset3/data/CO2Data_modified.csv\", delimiter=',')\n",
    "# # df['t'] = (df[\"Mn\"] - 0.5) / 12 + df[\"Yr\"] - 1958\n",
    "\n",
    "# # df['Mn']\n",
    "# print(df.head())\n",
    "t_col = ((array[:, 1]-0.5)/12 + array[:, 0] - 1958).reshape(-1,1)\n",
    "\n",
    "array = np.hstack((t_col, array))\n",
    "array = array[:, [0, 1, 2, 5]]\n",
    "\n"
   ]
  }
 ],
 "metadata": {
  "kernelspec": {
   "display_name": "6373pset3",
   "language": "python",
   "name": "python3"
  },
  "language_info": {
   "codemirror_mode": {
    "name": "ipython",
    "version": 3
   },
   "file_extension": ".py",
   "mimetype": "text/x-python",
   "name": "python",
   "nbconvert_exporter": "python",
   "pygments_lexer": "ipython3",
   "version": "3.12.9"
  }
 },
 "nbformat": 4,
 "nbformat_minor": 2
}
